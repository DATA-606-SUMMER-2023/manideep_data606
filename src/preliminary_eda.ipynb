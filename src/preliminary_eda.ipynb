{
  "cells": [
    {
      "cell_type": "markdown",
      "metadata": {
        "id": "ohcLPZmmnf7q"
      },
      "source": [
        "# EDA on Infant Cries Dataset"
      ]
    },
    {
      "cell_type": "code",
      "execution_count": 1,
      "metadata": {
        "id": "jod8m7Nq2vIL"
      },
      "outputs": [],
      "source": [
        "import librosa\n",
        "import librosa.display\n",
        "import matplotlib.pyplot as plt\n",
        "import numpy as np\n",
        "import os\n",
        "import pandas as pd\n",
        "import seaborn as sns\n",
        "import shutil\n",
        "import tensorflow as tf\n",
        "import zipfile\n",
        "\n",
        "\n",
        "from sklearn.model_selection import train_test_split"
      ]
    },
    {
      "cell_type": "markdown",
      "metadata": {
        "id": "6m3xDlkWnwbU"
      },
      "source": [
        "## Loading dataset"
      ]
    },
    {
      "cell_type": "code",
      "execution_count": 2,
      "metadata": {
        "colab": {
          "base_uri": "https://localhost:8080/"
        },
        "id": "k3nLDoGtzGIC",
        "outputId": "bacd18a7-9e18-41a3-869c-4ed9def398af"
      },
      "outputs": [
        {
          "name": "stdout",
          "output_type": "stream",
          "text": [
            "Current directory (parent directory): d:\\UMBC\\606\\codes\\manideep_data606\\data\n",
            "['donateacry_corpus_cleaned_and_updated_data.zip']\n"
          ]
        }
      ],
      "source": [
        "# Get the current working directory\n",
        "current_directory = os.getcwd()\n",
        "\n",
        "# Get the parent directory by using os.path.dirname()\n",
        "parent_directory = os.path.dirname(current_directory)\n",
        "\n",
        "folder_name = \"data\"\n",
        "\n",
        "# Construct the path to the desired folder using os.path.join()\n",
        "desired_folder_path = os.path.join(parent_directory, folder_name)\n",
        "\n",
        "print(\"Current directory (parent directory):\", desired_folder_path)\n",
        "\n",
        "os.chdir(desired_folder_path)\n",
        "\n",
        "# Check the new current directory (parent directory)\n",
        "current_directory = os.getcwd()\n",
        "\n",
        "# List all files and directories in the specified directory\n",
        "files_and_directories = os.listdir(current_directory)\n",
        "\n",
        "# Filter out only the files from the list\n",
        "files = [file for file in files_and_directories if os.path.isfile(os.path.join(current_directory, file))]\n",
        "\n",
        "# Print the list of files\n",
        "print(files)"
      ]
    },
    {
      "cell_type": "code",
      "execution_count": 3,
      "metadata": {
        "colab": {
          "base_uri": "https://localhost:8080/"
        },
        "id": "H4Ud5vKcH1zV",
        "outputId": "30fbf2fe-832c-44de-fc9b-f7e4a12741cb"
      },
      "outputs": [],
      "source": [
        "zip_file_path = os.path.join(current_directory, files[0])\n",
        "extracted_dir = os.path.join(parent_directory, 'temp')\n",
        "\n",
        "if os.path.exists(extracted_dir):\n",
        "    shutil.rmtree(extracted_dir)\n",
        "\n",
        "os.makedirs(extracted_dir)\n",
        "\n",
        "with zipfile.ZipFile(zip_file_path, 'r') as zip_ref:\n",
        "    zip_ref.extractall(extracted_dir)"
      ]
    },
    {
      "cell_type": "markdown",
      "metadata": {
        "id": "FgjqLti5n_Z-"
      },
      "source": [
        "## Preparing dataset for EDA"
      ]
    },
    {
      "cell_type": "code",
      "execution_count": 4,
      "metadata": {
        "id": "paOhNEeBVJvH"
      },
      "outputs": [
        {
          "name": "stdout",
          "output_type": "stream",
          "text": [
            "Total number of files: 457\n"
          ]
        }
      ],
      "source": [
        "def list_files(folder_path):\n",
        "    file_list = []\n",
        "\n",
        "    for root, dirs, files in os.walk(folder_path):\n",
        "        for file_name in files:\n",
        "            file_path = os.path.join(root, file_name)\n",
        "            file_list.append(file_path)\n",
        "\n",
        "    return file_list\n",
        "\n",
        "# Provide the path to the folder you want to list files from\n",
        "folder_path = os.path.join(extracted_dir,\"donateacry_corpus_cleaned_and_updated_data\")\n",
        "\n",
        "# Call the function to list the files\n",
        "files = list_files(folder_path)\n",
        "\n",
        "print('Total number of files:', len(files))"
      ]
    },
    {
      "cell_type": "markdown",
      "metadata": {
        "id": "M_bG7G-yobu8"
      },
      "source": [
        "### Extracting Gender, Age and reason for cry from filename and duration of the file by loading the file to librosa"
      ]
    },
    {
      "cell_type": "code",
      "execution_count": 5,
      "metadata": {
        "colab": {
          "base_uri": "https://localhost:8080/"
        },
        "id": "IvTEqO1hW5BK",
        "outputId": "0d08f41e-a527-40a4-dd51-e9a913e3473e"
      },
      "outputs": [
        {
          "name": "stdout",
          "output_type": "stream",
          "text": [
            "                                              filename gender age label  \\\n",
            "0    d:\\UMBC\\606\\codes\\manideep_data606\\temp\\donate...      m  48    bp   \n",
            "1    d:\\UMBC\\606\\codes\\manideep_data606\\temp\\donate...      m  72    bp   \n",
            "2    d:\\UMBC\\606\\codes\\manideep_data606\\temp\\donate...      m  72    bp   \n",
            "3    d:\\UMBC\\606\\codes\\manideep_data606\\temp\\donate...      m  72    bp   \n",
            "4    d:\\UMBC\\606\\codes\\manideep_data606\\temp\\donate...      m  72    bp   \n",
            "..                                                 ...    ...  ..   ...   \n",
            "452  d:\\UMBC\\606\\codes\\manideep_data606\\temp\\donate...      f  04    ti   \n",
            "453  d:\\UMBC\\606\\codes\\manideep_data606\\temp\\donate...      m  04    ti   \n",
            "454  d:\\UMBC\\606\\codes\\manideep_data606\\temp\\donate...      m  04    ti   \n",
            "455  d:\\UMBC\\606\\codes\\manideep_data606\\temp\\donate...      m  04    ti   \n",
            "456  d:\\UMBC\\606\\codes\\manideep_data606\\temp\\donate...      f  26    ti   \n",
            "\n",
            "     duration  \n",
            "0        6.86  \n",
            "1        7.00  \n",
            "2        7.00  \n",
            "3        7.00  \n",
            "4        7.00  \n",
            "..        ...  \n",
            "452      6.88  \n",
            "453      6.82  \n",
            "454      6.82  \n",
            "455      6.84  \n",
            "456      6.92  \n",
            "\n",
            "[457 rows x 5 columns]\n"
          ]
        }
      ],
      "source": [
        "def get_duration(filename):\n",
        "    audio_data, sample_rate = librosa.load(filename)\n",
        "    audio_duration = librosa.get_duration(y=audio_data, sr=sample_rate)\n",
        "    return audio_duration\n",
        "\n",
        "df = pd.DataFrame(files, columns=['filename'])\n",
        "\n",
        "# Splitting the string into separate columns and extracting the last three columns\n",
        "df[['gender', 'age', 'label']] = df['filename'].str.split('-', expand=True).iloc[:, -3:]\n",
        "\n",
        "df['duration'] = df['filename'].apply(get_duration)\n",
        "df['label'] = df['label'].apply(lambda x: x.split('.')[0])\n",
        "\n",
        "print(df)"
      ]
    },
    {
      "cell_type": "markdown",
      "metadata": {
        "id": "SNI8ke2Hotvh"
      },
      "source": [
        "## Understanding data"
      ]
    },
    {
      "cell_type": "markdown",
      "metadata": {
        "id": "9CY4lwTkpBfy"
      },
      "source": [
        "### checking null values and shape of the data"
      ]
    },
    {
      "cell_type": "code",
      "execution_count": 6,
      "metadata": {
        "colab": {
          "base_uri": "https://localhost:8080/"
        },
        "id": "EKuv58fEYNzp",
        "outputId": "05d4a3bc-619e-4bb1-d28a-957d9ad0007c"
      },
      "outputs": [
        {
          "name": "stdout",
          "output_type": "stream",
          "text": [
            "<class 'pandas.core.frame.DataFrame'>\n",
            "RangeIndex: 457 entries, 0 to 456\n",
            "Data columns (total 5 columns):\n",
            " #   Column    Non-Null Count  Dtype  \n",
            "---  ------    --------------  -----  \n",
            " 0   filename  457 non-null    object \n",
            " 1   gender    457 non-null    object \n",
            " 2   age       457 non-null    object \n",
            " 3   label     457 non-null    object \n",
            " 4   duration  457 non-null    float64\n",
            "dtypes: float64(1), object(4)\n",
            "memory usage: 18.0+ KB\n"
          ]
        }
      ],
      "source": [
        "df.info()"
      ]
    },
    {
      "cell_type": "markdown",
      "metadata": {
        "id": "9Y7q0ZW7pLFz"
      },
      "source": [
        "### Verifying extracted age column to contain only below identified values\n",
        "- 04 - 0 to 4 weeks old\n",
        "- 48 - 4 to 8 weeks old\n",
        "- 26 - 2 to 6 months old\n",
        "- 72 - 7 month to 2 years old\n",
        "- 22 - more than 2 years old"
      ]
    },
    {
      "cell_type": "code",
      "execution_count": 7,
      "metadata": {
        "colab": {
          "base_uri": "https://localhost:8080/"
        },
        "id": "GWmwHIkqay15",
        "outputId": "383b3214-4e3e-47af-dadd-01accaa415fa"
      },
      "outputs": [
        {
          "data": {
            "text/plain": [
              "array(['48', '72', '26', '04', '22'], dtype=object)"
            ]
          },
          "execution_count": 7,
          "metadata": {},
          "output_type": "execute_result"
        }
      ],
      "source": [
        "df.age.unique()"
      ]
    },
    {
      "cell_type": "markdown",
      "metadata": {
        "id": "56S_5sjFppQV"
      },
      "source": [
        "### Verifying extracted gender column to contain only below identified values\n",
        "- m - male\n",
        "- f - female"
      ]
    },
    {
      "cell_type": "code",
      "execution_count": 8,
      "metadata": {
        "colab": {
          "base_uri": "https://localhost:8080/"
        },
        "id": "1sy5X94rbPG1",
        "outputId": "974080cd-2cad-40e4-fdc5-5c5c400c3638"
      },
      "outputs": [
        {
          "data": {
            "text/plain": [
              "array(['m', 'f'], dtype=object)"
            ]
          },
          "execution_count": 8,
          "metadata": {},
          "output_type": "execute_result"
        }
      ],
      "source": [
        "df.gender.unique()"
      ]
    },
    {
      "cell_type": "markdown",
      "metadata": {
        "id": "c0pH_6eMp0XX"
      },
      "source": [
        "### Verifying extracted label column to contain only below identified values\n",
        "- hu - hungry\n",
        "- bu - needs burping\n",
        "- bp - belly pain\n",
        "- dc - discomfort\n",
        "- ti - tired\n",
        "- lo - lonely\n",
        "- ch - cold/hot\n",
        "- sc - scared\n",
        "- dk - don't know"
      ]
    },
    {
      "cell_type": "code",
      "execution_count": 9,
      "metadata": {
        "colab": {
          "base_uri": "https://localhost:8080/"
        },
        "id": "ae3IMiDHbS45",
        "outputId": "ed9050ac-9f1e-4714-eaaf-602142cc87f5"
      },
      "outputs": [
        {
          "data": {
            "text/plain": [
              "array(['bp', 'bu', 'dc', 'ch', 'hu', 'ti'], dtype=object)"
            ]
          },
          "execution_count": 9,
          "metadata": {},
          "output_type": "execute_result"
        }
      ],
      "source": [
        "df.label.unique()"
      ]
    },
    {
      "cell_type": "markdown",
      "metadata": {
        "id": "CMx4x2qpqNN-"
      },
      "source": [
        "### Verifying duration of all the files is nearly same"
      ]
    },
    {
      "cell_type": "code",
      "execution_count": 10,
      "metadata": {
        "colab": {
          "base_uri": "https://localhost:8080/"
        },
        "id": "zpk_nSWKq9wM",
        "outputId": "d519d736-0e88-4cba-dd1e-707d4390317a"
      },
      "outputs": [
        {
          "data": {
            "text/plain": [
              "array([6.86, 7.  , 6.9 , 6.96, 6.82, 6.84, 6.66, 6.54, 6.68, 7.06, 6.94,\n",
              "       6.98, 6.78, 6.92, 6.88, 6.72, 7.04, 6.74, 6.76, 6.62, 6.64, 7.02,\n",
              "       6.52])"
            ]
          },
          "execution_count": 10,
          "metadata": {},
          "output_type": "execute_result"
        }
      ],
      "source": [
        "df.duration.unique()"
      ]
    },
    {
      "cell_type": "markdown",
      "metadata": {
        "id": "Ce9AdFJMrA37"
      },
      "source": [
        "### Understanding distribution of genders"
      ]
    },
    {
      "cell_type": "code",
      "execution_count": 11,
      "metadata": {
        "colab": {
          "base_uri": "https://localhost:8080/",
          "height": 428
        },
        "id": "UELU4YcybWkV",
        "outputId": "92574c1b-b93d-4d30-c5b5-65916fc54131"
      },
      "outputs": [
        {
          "data": {
            "image/png": "[encoded data removed]",
            "text/plain": [
              "<Figure size 640x480 with 1 Axes>"
            ]
          },
          "metadata": {},
          "output_type": "display_data"
        }
      ],
      "source": [
        "# Count the occurrences of each gender\n",
        "gender_counts = df['gender'].value_counts()\n",
        "\n",
        "# Create a pie chart using Seaborn\n",
        "plt.pie(gender_counts.values, labels=gender_counts.index, autopct='%1.1f%%')\n",
        "plt.title('Distribution of Genders')\n",
        "plt.show()"
      ]
    },
    {
      "cell_type": "markdown",
      "metadata": {
        "id": "qTEHNpmfq_fC"
      },
      "source": [
        "### Understanding distribution of age"
      ]
    },
    {
      "cell_type": "code",
      "execution_count": 12,
      "metadata": {
        "colab": {
          "base_uri": "https://localhost:8080/",
          "height": 428
        },
        "id": "v4jXBQtBczjb",
        "outputId": "f2dbd276-4830-4ed1-a8ab-5aa061aa62b2"
      },
      "outputs": [
        {
          "data": {
            "image/png": "[encoded data removed]",
            "text/plain": [
              "<Figure size 640x480 with 1 Axes>"
            ]
          },
          "metadata": {},
          "output_type": "display_data"
        }
      ],
      "source": [
        "# Count the occurrences of each age\n",
        "gender_counts = df['age'].value_counts()\n",
        "\n",
        "# Create a pie chart using Seaborn\n",
        "plt.pie(gender_counts.values, labels=gender_counts.index, autopct='%1.1f%%')\n",
        "plt.title('Distribution of age')\n",
        "plt.show()"
      ]
    },
    {
      "cell_type": "markdown",
      "metadata": {
        "id": "L5opE7KpxEvk"
      },
      "source": [
        "### Understanding distribution of label"
      ]
    },
    {
      "cell_type": "code",
      "execution_count": 13,
      "metadata": {
        "colab": {
          "base_uri": "https://localhost:8080/",
          "height": 428
        },
        "id": "4X95ltepdZ3y",
        "outputId": "1d420c86-865f-4994-c74f-54f3cf18e7d3"
      },
      "outputs": [
        {
          "data": {
            "image/png": "[encoded data removed]",
            "text/plain": [
              "<Figure size 640x480 with 1 Axes>"
            ]
          },
          "metadata": {},
          "output_type": "display_data"
        }
      ],
      "source": [
        "# Count the occurrences of each label\n",
        "gender_counts = df['label'].value_counts()\n",
        "\n",
        "# Create a pie chart using Seaborn\n",
        "plt.pie(gender_counts.values, labels=gender_counts.index, autopct='%1.1f%%')\n",
        "plt.title('Distribution of Categories')\n",
        "plt.show()"
      ]
    },
    {
      "cell_type": "markdown",
      "metadata": {
        "id": "Ry-Vi9t7xQwh"
      },
      "source": [
        "### Understanding Relationship between Gender and Label"
      ]
    },
    {
      "cell_type": "code",
      "execution_count": 14,
      "metadata": {
        "colab": {
          "base_uri": "https://localhost:8080/",
          "height": 442
        },
        "id": "cE3EYTBrdnpf",
        "outputId": "c1071918-e897-423c-d7a2-09f2fa1fca9a"
      },
      "outputs": [
        {
          "data": {
            "image/png": "[encoded data removed]",
            "text/plain": [
              "<Figure size 2000x700 with 1 Axes>"
            ]
          },
          "metadata": {},
          "output_type": "display_data"
        }
      ],
      "source": [
        "f,ax=plt.subplots(1,1,figsize=(20,7))\n",
        "sns.countplot(x=\"label\", hue=\"gender\", data=df, ax=ax)\n",
        "plt.title('Trends by Label and Gender')\n",
        "plt.show()"
      ]
    },
    {
      "cell_type": "markdown",
      "metadata": {
        "id": "Q5THWbPdxkTc"
      },
      "source": [
        "### Understanding Relationship between Age and Label"
      ]
    },
    {
      "cell_type": "code",
      "execution_count": 15,
      "metadata": {
        "colab": {
          "base_uri": "https://localhost:8080/",
          "height": 442
        },
        "id": "mca_PY8WeZHq",
        "outputId": "5454b0ad-1174-4379-b4d6-34fd62db1eff"
      },
      "outputs": [
        {
          "data": {
            "image/png": "[encoded data removed]",
            "text/plain": [
              "<Figure size 2000x700 with 1 Axes>"
            ]
          },
          "metadata": {},
          "output_type": "display_data"
        }
      ],
      "source": [
        "f,ax=plt.subplots(1,1,figsize=(20,7))\n",
        "sns.countplot(x=\"label\", hue=\"age\", data=df, ax=ax)\n",
        "plt.title('Trends by Label and Age')\n",
        "plt.show()"
      ]
    },
    {
      "cell_type": "markdown",
      "metadata": {
        "id": "dsIuJ15qxwoG"
      },
      "source": [
        "### 2D image representation of a baby cry"
      ]
    },
    {
      "cell_type": "code",
      "execution_count": 16,
      "metadata": {
        "colab": {
          "base_uri": "https://localhost:8080/",
          "height": 376
        },
        "id": "IGAjQR5fVSnV",
        "outputId": "25ea91bb-b657-45c9-d4b9-d1c4dd15a280"
      },
      "outputs": [
        {
          "data": {
            "image/png": "[encoded data removed]",
            "text/plain": [
              "<Figure size 600x400 with 2 Axes>"
            ]
          },
          "metadata": {},
          "output_type": "display_data"
        }
      ],
      "source": [
        "fname = files[23]\n",
        "samples, sample_rate = librosa.load(fname)\n",
        "\n",
        "fig = plt.figure(figsize=[6,4])\n",
        "ax = fig.add_subplot(111)\n",
        "S = librosa.feature.melspectrogram(y=samples, sr=sample_rate)\n",
        "librosa.display.specshow(librosa.power_to_db(S, ref=np.max))\n",
        "plt.colorbar()\n",
        "plt.show()"
      ]
    },
    {
      "cell_type": "code",
      "execution_count": 48,
      "metadata": {},
      "outputs": [
        {
          "data": {
            "text/plain": [
              "(128, 302)"
            ]
          },
          "execution_count": 48,
          "metadata": {},
          "output_type": "execute_result"
        }
      ],
      "source": [
        "S.shape"
      ]
    },
    {
      "cell_type": "markdown",
      "metadata": {},
      "source": [
        "### Feature Extraction"
      ]
    },
    {
      "cell_type": "code",
      "execution_count": 26,
      "metadata": {
        "id": "zBbocz9eDFAf"
      },
      "outputs": [],
      "source": [
        "def get_features(filename):\n",
        "  try:\n",
        "    audio_data, sample_rate = librosa.load(filename)\n",
        "    S = librosa.feature.melspectrogram(y=audio_data, sr=sample_rate)\n",
        "    fill = 305 - S.shape[1]\n",
        "    if fill > 0:\n",
        "      S = np.concatenate((S, np.zeros((128, fill))), axis=1)\n",
        "    return S\n",
        "  except Exception as e:\n",
        "    print(f\"Error processing {filename}: {e}\")\n",
        "    return None\n",
        "\n",
        "df['features'] = df['filename'].apply(get_features)"
      ]
    },
    {
      "cell_type": "code",
      "execution_count": 28,
      "metadata": {
        "colab": {
          "base_uri": "https://localhost:8080/",
          "height": 423
        },
        "id": "KjCzHB3vDepX",
        "outputId": "48b3d007-eff9-4312-b76c-ac7cc186d1dc"
      },
      "outputs": [
        {
          "data": {
            "text/html": [
              "<div>\n",
              "<style scoped>\n",
              "    .dataframe tbody tr th:only-of-type {\n",
              "        vertical-align: middle;\n",
              "    }\n",
              "\n",
              "    .dataframe tbody tr th {\n",
              "        vertical-align: top;\n",
              "    }\n",
              "\n",
              "    .dataframe thead th {\n",
              "        text-align: right;\n",
              "    }\n",
              "</style>\n",
              "<table border=\"1\" class=\"dataframe\">\n",
              "  <thead>\n",
              "    <tr style=\"text-align: right;\">\n",
              "      <th></th>\n",
              "      <th>filename</th>\n",
              "      <th>gender</th>\n",
              "      <th>age</th>\n",
              "      <th>label</th>\n",
              "      <th>duration</th>\n",
              "      <th>features</th>\n",
              "    </tr>\n",
              "  </thead>\n",
              "  <tbody>\n",
              "    <tr>\n",
              "      <th>0</th>\n",
              "      <td>d:\\UMBC\\606\\codes\\manideep_data606\\temp\\donate...</td>\n",
              "      <td>m</td>\n",
              "      <td>48</td>\n",
              "      <td>bp</td>\n",
              "      <td>6.86</td>\n",
              "      <td>[[1.1270191002665797e-08, 5.836095162692345e-0...</td>\n",
              "    </tr>\n",
              "    <tr>\n",
              "      <th>1</th>\n",
              "      <td>d:\\UMBC\\606\\codes\\manideep_data606\\temp\\donate...</td>\n",
              "      <td>m</td>\n",
              "      <td>72</td>\n",
              "      <td>bp</td>\n",
              "      <td>7.00</td>\n",
              "      <td>[[2.164261331927264e-06, 2.674506959010614e-06...</td>\n",
              "    </tr>\n",
              "    <tr>\n",
              "      <th>2</th>\n",
              "      <td>d:\\UMBC\\606\\codes\\manideep_data606\\temp\\donate...</td>\n",
              "      <td>m</td>\n",
              "      <td>72</td>\n",
              "      <td>bp</td>\n",
              "      <td>7.00</td>\n",
              "      <td>[[5.047741433372721e-05, 2.1598061721306294e-0...</td>\n",
              "    </tr>\n",
              "    <tr>\n",
              "      <th>3</th>\n",
              "      <td>d:\\UMBC\\606\\codes\\manideep_data606\\temp\\donate...</td>\n",
              "      <td>m</td>\n",
              "      <td>72</td>\n",
              "      <td>bp</td>\n",
              "      <td>7.00</td>\n",
              "      <td>[[2.2012220142642036e-05, 1.726540722302161e-0...</td>\n",
              "    </tr>\n",
              "    <tr>\n",
              "      <th>4</th>\n",
              "      <td>d:\\UMBC\\606\\codes\\manideep_data606\\temp\\donate...</td>\n",
              "      <td>m</td>\n",
              "      <td>72</td>\n",
              "      <td>bp</td>\n",
              "      <td>7.00</td>\n",
              "      <td>[[0.0036527409683912992, 0.002167423954233527,...</td>\n",
              "    </tr>\n",
              "    <tr>\n",
              "      <th>...</th>\n",
              "      <td>...</td>\n",
              "      <td>...</td>\n",
              "      <td>...</td>\n",
              "      <td>...</td>\n",
              "      <td>...</td>\n",
              "      <td>...</td>\n",
              "    </tr>\n",
              "    <tr>\n",
              "      <th>452</th>\n",
              "      <td>d:\\UMBC\\606\\codes\\manideep_data606\\temp\\donate...</td>\n",
              "      <td>f</td>\n",
              "      <td>04</td>\n",
              "      <td>ti</td>\n",
              "      <td>6.88</td>\n",
              "      <td>[[3.704298796947114e-05, 0.0006461103912442923...</td>\n",
              "    </tr>\n",
              "    <tr>\n",
              "      <th>453</th>\n",
              "      <td>d:\\UMBC\\606\\codes\\manideep_data606\\temp\\donate...</td>\n",
              "      <td>m</td>\n",
              "      <td>04</td>\n",
              "      <td>ti</td>\n",
              "      <td>6.82</td>\n",
              "      <td>[[4.8018076626021866e-08, 1.0169576114549272e-...</td>\n",
              "    </tr>\n",
              "    <tr>\n",
              "      <th>454</th>\n",
              "      <td>d:\\UMBC\\606\\codes\\manideep_data606\\temp\\donate...</td>\n",
              "      <td>m</td>\n",
              "      <td>04</td>\n",
              "      <td>ti</td>\n",
              "      <td>6.82</td>\n",
              "      <td>[[1.4625798030465376e-06, 1.84240536782454e-06...</td>\n",
              "    </tr>\n",
              "    <tr>\n",
              "      <th>455</th>\n",
              "      <td>d:\\UMBC\\606\\codes\\manideep_data606\\temp\\donate...</td>\n",
              "      <td>m</td>\n",
              "      <td>04</td>\n",
              "      <td>ti</td>\n",
              "      <td>6.84</td>\n",
              "      <td>[[2.541839876357699e-06, 4.242699105816428e-06...</td>\n",
              "    </tr>\n",
              "    <tr>\n",
              "      <th>456</th>\n",
              "      <td>d:\\UMBC\\606\\codes\\manideep_data606\\temp\\donate...</td>\n",
              "      <td>f</td>\n",
              "      <td>26</td>\n",
              "      <td>ti</td>\n",
              "      <td>6.92</td>\n",
              "      <td>[[1.1270191002665797e-08, 5.836095162692345e-0...</td>\n",
              "    </tr>\n",
              "  </tbody>\n",
              "</table>\n",
              "<p>457 rows × 6 columns</p>\n",
              "</div>"
            ],
            "text/plain": [
              "                                              filename gender age label  \\\n",
              "0    d:\\UMBC\\606\\codes\\manideep_data606\\temp\\donate...      m  48    bp   \n",
              "1    d:\\UMBC\\606\\codes\\manideep_data606\\temp\\donate...      m  72    bp   \n",
              "2    d:\\UMBC\\606\\codes\\manideep_data606\\temp\\donate...      m  72    bp   \n",
              "3    d:\\UMBC\\606\\codes\\manideep_data606\\temp\\donate...      m  72    bp   \n",
              "4    d:\\UMBC\\606\\codes\\manideep_data606\\temp\\donate...      m  72    bp   \n",
              "..                                                 ...    ...  ..   ...   \n",
              "452  d:\\UMBC\\606\\codes\\manideep_data606\\temp\\donate...      f  04    ti   \n",
              "453  d:\\UMBC\\606\\codes\\manideep_data606\\temp\\donate...      m  04    ti   \n",
              "454  d:\\UMBC\\606\\codes\\manideep_data606\\temp\\donate...      m  04    ti   \n",
              "455  d:\\UMBC\\606\\codes\\manideep_data606\\temp\\donate...      m  04    ti   \n",
              "456  d:\\UMBC\\606\\codes\\manideep_data606\\temp\\donate...      f  26    ti   \n",
              "\n",
              "     duration                                           features  \n",
              "0        6.86  [[1.1270191002665797e-08, 5.836095162692345e-0...  \n",
              "1        7.00  [[2.164261331927264e-06, 2.674506959010614e-06...  \n",
              "2        7.00  [[5.047741433372721e-05, 2.1598061721306294e-0...  \n",
              "3        7.00  [[2.2012220142642036e-05, 1.726540722302161e-0...  \n",
              "4        7.00  [[0.0036527409683912992, 0.002167423954233527,...  \n",
              "..        ...                                                ...  \n",
              "452      6.88  [[3.704298796947114e-05, 0.0006461103912442923...  \n",
              "453      6.82  [[4.8018076626021866e-08, 1.0169576114549272e-...  \n",
              "454      6.82  [[1.4625798030465376e-06, 1.84240536782454e-06...  \n",
              "455      6.84  [[2.541839876357699e-06, 4.242699105816428e-06...  \n",
              "456      6.92  [[1.1270191002665797e-08, 5.836095162692345e-0...  \n",
              "\n",
              "[457 rows x 6 columns]"
            ]
          },
          "execution_count": 28,
          "metadata": {},
          "output_type": "execute_result"
        }
      ],
      "source": [
        "df"
      ]
    },
    {
      "cell_type": "markdown",
      "metadata": {},
      "source": [
        "### Partitioning Dataset"
      ]
    },
    {
      "cell_type": "code",
      "execution_count": 30,
      "metadata": {
        "id": "NCpkc65Y22OX"
      },
      "outputs": [],
      "source": [
        "from sklearn.preprocessing import LabelEncoder, MultiLabelBinarizer\n",
        "\n",
        "# Convert labels to numerical values using LabelEncoder\n",
        "label_encoder = LabelEncoder()\n",
        "y_encoded = label_encoder.fit_transform(df['label'])\n",
        "\n",
        "# One-Hot Encoding\n",
        "mlb = MultiLabelBinarizer()\n",
        "y_one_hot = mlb.fit_transform([[label] for label in y_encoded])\n",
        "\n",
        "\n",
        "# Split the data into training and testing sets\n",
        "X_train, X_test, y_train, y_test = train_test_split(df['features'], y_one_hot, test_size=0.2, random_state=42)\n",
        "\n",
        "# Convert the arrays to numpy and expand dimensions for TensorFlow\n",
        "X_train = np.stack(X_train.to_numpy()).astype(np.float32)\n",
        "X_test = np.stack(X_test.to_numpy()).astype(np.float32)"
      ]
    },
    {
      "cell_type": "code",
      "execution_count": 31,
      "metadata": {},
      "outputs": [
        {
          "name": "stdout",
          "output_type": "stream",
          "text": [
            "{0: 28.5625, 1: 57.125, 2: 65.28571428571429, 3: 22.85, 4: 1.1963350785340314, 5: 19.041666666666668}\n"
          ]
        }
      ],
      "source": [
        "def compute_class_weights(labels):\n",
        "    class_counts = np.sum(labels, axis=0)\n",
        "    total_samples = labels.shape[0]\n",
        "    class_weights = {class_index: total_samples / class_counts[class_index] for class_index in range(len(class_counts))}\n",
        "    return class_weights\n",
        "\n",
        "class_weights = compute_class_weights(y_one_hot)\n",
        "\n",
        "print(class_weights)"
      ]
    },
    {
      "cell_type": "markdown",
      "metadata": {},
      "source": [
        "### Building the CNN"
      ]
    },
    {
      "cell_type": "markdown",
      "metadata": {},
      "source": [
        "#### Simple CNN"
      ]
    },
    {
      "cell_type": "code",
      "execution_count": 32,
      "metadata": {
        "colab": {
          "base_uri": "https://localhost:8080/"
        },
        "id": "c9T9ftKV5axT",
        "outputId": "4232bd7c-2c08-4af3-ecf1-177828044858"
      },
      "outputs": [
        {
          "name": "stdout",
          "output_type": "stream",
          "text": [
            "Epoch 1/10\n",
            "12/12 [==============================] - 6s 483ms/step - loss: 46.5749 - accuracy: 0.6603 - val_loss: 12.4657 - val_accuracy: 0.6630\n",
            "Epoch 2/10\n",
            "12/12 [==============================] - 6s 480ms/step - loss: 3.0286 - accuracy: 0.8767 - val_loss: 14.6069 - val_accuracy: 0.7717\n",
            "Epoch 3/10\n",
            "12/12 [==============================] - 6s 494ms/step - loss: 1.0280 - accuracy: 0.9151 - val_loss: 13.0217 - val_accuracy: 0.7717\n",
            "Epoch 4/10\n",
            "12/12 [==============================] - 6s 507ms/step - loss: 0.3400 - accuracy: 0.9342 - val_loss: 11.9845 - val_accuracy: 0.7609\n",
            "Epoch 5/10\n",
            "12/12 [==============================] - 6s 497ms/step - loss: 0.2314 - accuracy: 0.9425 - val_loss: 12.0865 - val_accuracy: 0.7609\n",
            "Epoch 6/10\n",
            "12/12 [==============================] - 6s 539ms/step - loss: 0.1892 - accuracy: 0.9452 - val_loss: 11.7527 - val_accuracy: 0.7609\n",
            "Epoch 7/10\n",
            "12/12 [==============================] - 6s 488ms/step - loss: 0.1495 - accuracy: 0.9452 - val_loss: 11.4114 - val_accuracy: 0.7609\n",
            "Epoch 8/10\n",
            "12/12 [==============================] - 6s 521ms/step - loss: 0.1388 - accuracy: 0.9479 - val_loss: 13.0679 - val_accuracy: 0.7609\n",
            "Epoch 9/10\n",
            "12/12 [==============================] - 6s 474ms/step - loss: 0.1517 - accuracy: 0.9479 - val_loss: 13.7561 - val_accuracy: 0.7717\n",
            "Epoch 10/10\n",
            "12/12 [==============================] - 6s 465ms/step - loss: 0.1376 - accuracy: 0.9479 - val_loss: 14.3486 - val_accuracy: 0.7717\n",
            "3/3 [==============================] - 0s 86ms/step - loss: 14.3486 - accuracy: 0.7717\n",
            "Test Loss: 14.348581314086914\n",
            "Test Accuracy: 0.77173912525177\n"
          ]
        }
      ],
      "source": [
        "# Define the CNN model\n",
        "model1 = tf.keras.Sequential([\n",
        "    tf.keras.layers.Conv2D(32, (3, 3), activation='relu', input_shape=(128, 305, 1)),\n",
        "    tf.keras.layers.MaxPooling2D((2, 2)),\n",
        "    tf.keras.layers.Flatten(),\n",
        "    tf.keras.layers.Dense(64, activation='relu'),\n",
        "    tf.keras.layers.Dense(6, activation='softmax')\n",
        "])\n",
        "\n",
        "# Compile the model\n",
        "model1.compile(optimizer='adam', loss='categorical_crossentropy', metrics=['accuracy'])\n",
        "\n",
        "# Train the model\n",
        "model1.fit(X_train, y_train, epochs=10, batch_size=32, validation_data=(X_test, y_test))\n",
        "\n",
        "# Evaluate the model\n",
        "loss, accuracy = model1.evaluate(X_test, y_test)\n",
        "print('Test Loss:', loss)\n",
        "print('Test Accuracy:', accuracy)"
      ]
    },
    {
      "cell_type": "markdown",
      "metadata": {},
      "source": [
        "#### CNN with multiple convolution layers"
      ]
    },
    {
      "cell_type": "code",
      "execution_count": 34,
      "metadata": {
        "colab": {
          "base_uri": "https://localhost:8080/"
        },
        "id": "eR2zH_1x5NiK",
        "outputId": "82b11a67-5ab6-466f-b4bd-dc75822d4f4c"
      },
      "outputs": [
        {
          "name": "stdout",
          "output_type": "stream",
          "text": [
            "Epoch 1/10\n",
            "12/12 [==============================] - 8s 648ms/step - loss: 9.8410 - accuracy: 0.7068 - val_loss: 1.9121 - val_accuracy: 0.6630\n",
            "Epoch 2/10\n",
            "12/12 [==============================] - 9s 728ms/step - loss: 1.0767 - accuracy: 0.8274 - val_loss: 1.4503 - val_accuracy: 0.7826\n",
            "Epoch 3/10\n",
            "12/12 [==============================] - 8s 639ms/step - loss: 0.7652 - accuracy: 0.8849 - val_loss: 2.1109 - val_accuracy: 0.7826\n",
            "Epoch 4/10\n",
            "12/12 [==============================] - 8s 629ms/step - loss: 0.4613 - accuracy: 0.8822 - val_loss: 2.1044 - val_accuracy: 0.7826\n",
            "Epoch 5/10\n",
            "12/12 [==============================] - 8s 705ms/step - loss: 0.2956 - accuracy: 0.9068 - val_loss: 2.0594 - val_accuracy: 0.7826\n",
            "Epoch 6/10\n",
            "12/12 [==============================] - 8s 669ms/step - loss: 0.2432 - accuracy: 0.9205 - val_loss: 2.4804 - val_accuracy: 0.7609\n",
            "Epoch 7/10\n",
            "12/12 [==============================] - 7s 620ms/step - loss: 0.1950 - accuracy: 0.9397 - val_loss: 3.1086 - val_accuracy: 0.7500\n",
            "Epoch 8/10\n",
            "12/12 [==============================] - 8s 648ms/step - loss: 0.1615 - accuracy: 0.9534 - val_loss: 3.7593 - val_accuracy: 0.7609\n",
            "Epoch 9/10\n",
            "12/12 [==============================] - 8s 655ms/step - loss: 0.1310 - accuracy: 0.9616 - val_loss: 4.3860 - val_accuracy: 0.7609\n",
            "Epoch 10/10\n",
            "12/12 [==============================] - 8s 660ms/step - loss: 0.1076 - accuracy: 0.9699 - val_loss: 4.7498 - val_accuracy: 0.7065\n",
            "3/3 [==============================] - 0s 103ms/step - loss: 4.7498 - accuracy: 0.7065\n",
            "Test Loss: 4.749771595001221\n",
            "Test Accuracy: 0.70652174949646\n"
          ]
        }
      ],
      "source": [
        "# Define the CNN model\n",
        "model2 = tf.keras.Sequential([\n",
        "    tf.keras.layers.Conv2D(32, (3, 3), activation='relu', input_shape=(128, 305, 1)),\n",
        "    tf.keras.layers.MaxPooling2D((2, 2)),\n",
        "    tf.keras.layers.Conv2D(64, (3, 3), activation='relu'),\n",
        "    tf.keras.layers.MaxPooling2D((2, 2)),\n",
        "    tf.keras.layers.Conv2D(64, (3, 3), activation='relu'),\n",
        "    tf.keras.layers.MaxPooling2D((2, 2)),\n",
        "    tf.keras.layers.Flatten(),\n",
        "    tf.keras.layers.Dense(64, activation='relu'),\n",
        "    tf.keras.layers.Dense(6, activation='softmax')\n",
        "])\n",
        "\n",
        "# Compile the model\n",
        "model2.compile(optimizer='adam', loss='categorical_crossentropy', metrics=['accuracy'])\n",
        "\n",
        "# Train the model\n",
        "model2.fit(X_train, y_train, epochs=10, batch_size=32, validation_data=(X_test, y_test))\n",
        "\n",
        "# Evaluate the model\n",
        "loss, accuracy = model2.evaluate(X_test, y_test)\n",
        "print('Test Loss:', loss)\n",
        "print('Test Accuracy:', accuracy)"
      ]
    },
    {
      "cell_type": "markdown",
      "metadata": {},
      "source": [
        "#### CNN with Dropout Regularization"
      ]
    },
    {
      "cell_type": "code",
      "execution_count": 35,
      "metadata": {
        "colab": {
          "base_uri": "https://localhost:8080/"
        },
        "id": "Vi9yUdiuGB3I",
        "outputId": "0d471070-f150-41a7-d3d8-ab0e7ca0bbcd"
      },
      "outputs": [
        {
          "name": "stdout",
          "output_type": "stream",
          "text": [
            "Epoch 1/10\n",
            "12/12 [==============================] - 10s 759ms/step - loss: 74.4886 - accuracy: 0.6466 - val_loss: 19.0572 - val_accuracy: 0.7283\n",
            "Epoch 2/10\n",
            "12/12 [==============================] - 9s 755ms/step - loss: 4.1005 - accuracy: 0.8274 - val_loss: 3.5911 - val_accuracy: 0.7609\n",
            "Epoch 3/10\n",
            "12/12 [==============================] - 8s 681ms/step - loss: 0.5114 - accuracy: 0.8932 - val_loss: 2.1423 - val_accuracy: 0.7826\n",
            "Epoch 4/10\n",
            "12/12 [==============================] - 8s 705ms/step - loss: 0.3811 - accuracy: 0.8904 - val_loss: 1.8812 - val_accuracy: 0.7826\n",
            "Epoch 5/10\n",
            "12/12 [==============================] - 9s 730ms/step - loss: 0.3307 - accuracy: 0.8986 - val_loss: 1.8551 - val_accuracy: 0.7826\n",
            "Epoch 6/10\n",
            "12/12 [==============================] - 9s 736ms/step - loss: 0.2610 - accuracy: 0.9123 - val_loss: 1.9428 - val_accuracy: 0.7826\n",
            "Epoch 7/10\n",
            "12/12 [==============================] - 10s 812ms/step - loss: 0.2379 - accuracy: 0.9260 - val_loss: 2.0473 - val_accuracy: 0.7609\n",
            "Epoch 8/10\n",
            "12/12 [==============================] - 9s 747ms/step - loss: 0.2107 - accuracy: 0.9315 - val_loss: 2.2202 - val_accuracy: 0.7609\n",
            "Epoch 9/10\n",
            "12/12 [==============================] - 9s 746ms/step - loss: 0.1977 - accuracy: 0.9288 - val_loss: 2.3583 - val_accuracy: 0.7717\n",
            "Epoch 10/10\n",
            "12/12 [==============================] - 9s 734ms/step - loss: 0.1709 - accuracy: 0.9397 - val_loss: 2.5483 - val_accuracy: 0.7717\n",
            "3/3 [==============================] - 0s 108ms/step - loss: 2.5483 - accuracy: 0.7717\n",
            "Test Loss: 2.5482590198516846\n",
            "Test Accuracy: 0.77173912525177\n"
          ]
        }
      ],
      "source": [
        "# Define the CNN model with Dropout regularization\n",
        "model3 = tf.keras.Sequential([\n",
        "    tf.keras.layers.Conv2D(32, (3, 3), activation='relu', input_shape=(128, 305, 1)),\n",
        "    tf.keras.layers.MaxPooling2D((2, 2)),\n",
        "    tf.keras.layers.Dropout(0.25),  # Added Dropout regularization\n",
        "    tf.keras.layers.Conv2D(64, (3, 3), activation='relu'),\n",
        "    tf.keras.layers.MaxPooling2D((2, 2)),\n",
        "    tf.keras.layers.Dropout(0.25),  # Added Dropout regularization\n",
        "    tf.keras.layers.Flatten(),\n",
        "    tf.keras.layers.Dense(64, activation='relu'),\n",
        "    tf.keras.layers.Dense(6, activation='softmax')\n",
        "])\n",
        "\n",
        "# Compile the model\n",
        "model3.compile(optimizer='adam', loss='categorical_crossentropy', metrics=['accuracy'])\n",
        "\n",
        "# Train the model\n",
        "model3.fit(X_train, y_train, epochs=10, batch_size=32, validation_data=(X_test, y_test))\n",
        "\n",
        "# Evaluate the model\n",
        "loss, accuracy = model3.evaluate(X_test, y_test)\n",
        "print('Test Loss:', loss)\n",
        "print('Test Accuracy:', accuracy)"
      ]
    },
    {
      "cell_type": "code",
      "execution_count": 36,
      "metadata": {
        "colab": {
          "base_uri": "https://localhost:8080/"
        },
        "id": "INEsgOLzOX8E",
        "outputId": "0d7a539b-0205-4df1-9fe1-f8e4eff89166"
      },
      "outputs": [
        {
          "name": "stdout",
          "output_type": "stream",
          "text": [
            "3/3 [==============================] - 1s 120ms/step\n",
            "              precision    recall  f1-score   support\n",
            "\n",
            "           0       1.00      0.00      0.00         4\n",
            "           1       1.00      0.00      0.00         2\n",
            "           2       1.00      0.00      0.00         2\n",
            "           3       1.00      0.00      0.00         5\n",
            "           4       0.78      0.99      0.87        72\n",
            "           5       0.00      0.00      0.00         7\n",
            "\n",
            "    accuracy                           0.77        92\n",
            "   macro avg       0.80      0.16      0.15        92\n",
            "weighted avg       0.75      0.77      0.68        92\n",
            "\n",
            "[4 4 4 4 4 4 4 4 4 4 4 4 4 4 4 4 4 4 4 4 4 4 4 4 4 4 4 4 4 4 4 4 4 4 4 4 4\n",
            " 4 4 4 4 4 4 4 4 4 4 4 4 4 4 4 4 4 4 4 4 4 4 4 4 4 4 4 4 4 4 4 4 4 4 4 4 4\n",
            " 4 4 4 4 4 4 5 4 4 4 4 4 4 4 4 4 4 4]\n"
          ]
        }
      ],
      "source": [
        "from sklearn.metrics import classification_report\n",
        "\n",
        "# Evaluate the model on test data\n",
        "y_pred = model3.predict(X_test)\n",
        "y_pred = np.argmax(y_pred, axis=1)\n",
        "y_true = np.argmax(y_test, axis=1)\n",
        "\n",
        "# Create the classification report\n",
        "report = classification_report(y_true, y_pred, zero_division=1)\n",
        "print(report)"
      ]
    },
    {
      "cell_type": "markdown",
      "metadata": {},
      "source": [
        "#### CNN with Dropout regularization and Exponential Decay Learning rate scheduler"
      ]
    },
    {
      "cell_type": "code",
      "execution_count": 38,
      "metadata": {
        "colab": {
          "base_uri": "https://localhost:8080/"
        },
        "id": "3RD1O90iSE06",
        "outputId": "fee5abe5-2520-4d56-bcd0-337077eeee0a"
      },
      "outputs": [
        {
          "name": "stdout",
          "output_type": "stream",
          "text": [
            "Epoch 1/10\n",
            "12/12 [==============================] - 10s 748ms/step - loss: 280.1999 - accuracy: 0.6877 - val_loss: 1.5010 - val_accuracy: 0.7283\n",
            "Epoch 2/10\n",
            "12/12 [==============================] - 9s 758ms/step - loss: 1.2555 - accuracy: 0.8274 - val_loss: 1.1115 - val_accuracy: 0.7717\n",
            "Epoch 3/10\n",
            "12/12 [==============================] - 9s 722ms/step - loss: 0.9097 - accuracy: 0.8247 - val_loss: 1.0828 - val_accuracy: 0.7826\n",
            "Epoch 4/10\n",
            "12/12 [==============================] - 8s 684ms/step - loss: 0.7352 - accuracy: 0.8466 - val_loss: 0.8834 - val_accuracy: 0.7826\n",
            "Epoch 5/10\n",
            "12/12 [==============================] - 8s 667ms/step - loss: 0.6370 - accuracy: 0.8548 - val_loss: 0.9057 - val_accuracy: 0.7826\n",
            "Epoch 6/10\n",
            "12/12 [==============================] - 8s 653ms/step - loss: 0.4637 - accuracy: 0.8740 - val_loss: 1.1878 - val_accuracy: 0.7826\n",
            "Epoch 7/10\n",
            "12/12 [==============================] - 9s 744ms/step - loss: 0.4152 - accuracy: 0.8767 - val_loss: 1.3258 - val_accuracy: 0.7826\n",
            "Epoch 8/10\n",
            "12/12 [==============================] - 9s 741ms/step - loss: 0.3600 - accuracy: 0.8822 - val_loss: 1.7308 - val_accuracy: 0.7826\n",
            "Epoch 9/10\n",
            "12/12 [==============================] - 9s 798ms/step - loss: 0.2750 - accuracy: 0.9041 - val_loss: 2.7434 - val_accuracy: 0.7717\n",
            "Epoch 10/10\n",
            "12/12 [==============================] - 9s 782ms/step - loss: 0.4400 - accuracy: 0.9096 - val_loss: 2.2386 - val_accuracy: 0.7609\n",
            "3/3 [==============================] - 0s 113ms/step - loss: 2.2386 - accuracy: 0.7609\n",
            "Test Loss: 2.2385523319244385\n",
            "Test Accuracy: 0.760869562625885\n"
          ]
        }
      ],
      "source": [
        "# Define the CNN model with Dropout regularization\n",
        "model4 = tf.keras.Sequential([\n",
        "    tf.keras.layers.Conv2D(32, (3, 3), activation='relu', input_shape=(128, 305, 1)),\n",
        "    tf.keras.layers.MaxPooling2D((2, 2)),\n",
        "    tf.keras.layers.Dropout(0.25),  # Added Dropout regularization\n",
        "    tf.keras.layers.Conv2D(64, (3, 3), activation='relu'),\n",
        "    tf.keras.layers.MaxPooling2D((2, 2)),\n",
        "    tf.keras.layers.Dropout(0.25),  # Added Dropout regularization\n",
        "    tf.keras.layers.Flatten(),\n",
        "    tf.keras.layers.Dense(64, activation='relu'),\n",
        "    tf.keras.layers.Dense(6, activation='softmax')\n",
        "])\n",
        "\n",
        "# Define the learning rate scheduler\n",
        "lr_scheduler = tf.keras.optimizers.schedules.ExponentialDecay(\n",
        "    initial_learning_rate=0.01,\n",
        "    decay_steps=1000,\n",
        "    decay_rate=0.5\n",
        ")\n",
        "\n",
        "# Compile the model with the learning rate scheduler\n",
        "model4.compile(optimizer=tf.keras.optimizers.Adam(learning_rate=lr_scheduler),\n",
        "              loss='categorical_crossentropy',\n",
        "              metrics=['accuracy'])\n",
        "\n",
        "# Train the model\n",
        "model4.fit(X_train, y_train, epochs=10, batch_size=32, validation_data=(X_test, y_test))\n",
        "\n",
        "# Evaluate the model\n",
        "loss, accuracy = model4.evaluate(X_test, y_test)\n",
        "print('Test Loss:', loss)\n",
        "print('Test Accuracy:', accuracy)"
      ]
    },
    {
      "cell_type": "markdown",
      "metadata": {},
      "source": [
        "#### CNN with class_weight to address imbalance dataset"
      ]
    },
    {
      "cell_type": "code",
      "execution_count": 40,
      "metadata": {},
      "outputs": [
        {
          "name": "stdout",
          "output_type": "stream",
          "text": [
            "Epoch 1/50\n",
            "12/12 [==============================] - 11s 882ms/step - loss: 192.5771 - accuracy: 0.1534 - val_loss: 2.5877 - val_accuracy: 0.5326\n",
            "Epoch 2/50\n",
            "12/12 [==============================] - 10s 802ms/step - loss: 14.5924 - accuracy: 0.5425 - val_loss: 2.3447 - val_accuracy: 0.2935\n",
            "Epoch 3/50\n",
            "12/12 [==============================] - 11s 933ms/step - loss: 10.6622 - accuracy: 0.5452 - val_loss: 2.4844 - val_accuracy: 0.1848\n",
            "Epoch 4/50\n",
            "12/12 [==============================] - 10s 854ms/step - loss: 7.5833 - accuracy: 0.2548 - val_loss: 2.2577 - val_accuracy: 0.2500\n",
            "Epoch 5/50\n",
            "12/12 [==============================] - 10s 853ms/step - loss: 6.0459 - accuracy: 0.6685 - val_loss: 1.5715 - val_accuracy: 0.5543\n",
            "Epoch 6/50\n",
            "12/12 [==============================] - 10s 868ms/step - loss: 5.1675 - accuracy: 0.7233 - val_loss: 1.7332 - val_accuracy: 0.5000\n",
            "Epoch 7/50\n",
            "12/12 [==============================] - 10s 821ms/step - loss: 4.5275 - accuracy: 0.7096 - val_loss: 2.0713 - val_accuracy: 0.5543\n",
            "Epoch 8/50\n",
            "12/12 [==============================] - 10s 802ms/step - loss: 6.0017 - accuracy: 0.6658 - val_loss: 4.7127 - val_accuracy: 0.1957\n",
            "Epoch 9/50\n",
            "12/12 [==============================] - 10s 816ms/step - loss: 6.1597 - accuracy: 0.6877 - val_loss: 4.2144 - val_accuracy: 0.2283\n",
            "Epoch 10/50\n",
            "12/12 [==============================] - 11s 929ms/step - loss: 5.1844 - accuracy: 0.6411 - val_loss: 2.1410 - val_accuracy: 0.4674\n",
            "Epoch 11/50\n",
            "12/12 [==============================] - 11s 950ms/step - loss: 3.7715 - accuracy: 0.7699 - val_loss: 2.0534 - val_accuracy: 0.5652\n",
            "Epoch 12/50\n",
            "12/12 [==============================] - 11s 944ms/step - loss: 3.7241 - accuracy: 0.7945 - val_loss: 4.7981 - val_accuracy: 0.2174\n",
            "Epoch 13/50\n",
            "12/12 [==============================] - 11s 928ms/step - loss: 14.6674 - accuracy: 0.3178 - val_loss: 3.0354 - val_accuracy: 0.6196\n",
            "Epoch 14/50\n",
            "12/12 [==============================] - 12s 959ms/step - loss: 8.5010 - accuracy: 0.6000 - val_loss: 3.5510 - val_accuracy: 0.4783\n",
            "Epoch 15/50\n",
            "12/12 [==============================] - 11s 887ms/step - loss: 7.0433 - accuracy: 0.7123 - val_loss: 4.0977 - val_accuracy: 0.2935\n",
            "Epoch 16/50\n",
            "12/12 [==============================] - 11s 890ms/step - loss: 4.1528 - accuracy: 0.6137 - val_loss: 2.6740 - val_accuracy: 0.5326\n",
            "Epoch 17/50\n",
            "12/12 [==============================] - 11s 886ms/step - loss: 2.7521 - accuracy: 0.7863 - val_loss: 2.7730 - val_accuracy: 0.5761\n",
            "Epoch 18/50\n",
            "12/12 [==============================] - 11s 949ms/step - loss: 2.2422 - accuracy: 0.8137 - val_loss: 3.2175 - val_accuracy: 0.6087\n",
            "Epoch 19/50\n",
            "12/12 [==============================] - 11s 884ms/step - loss: 5.7067 - accuracy: 0.8356 - val_loss: 9.5648 - val_accuracy: 0.3152\n",
            "Epoch 20/50\n",
            "12/12 [==============================] - 12s 981ms/step - loss: 7.6930 - accuracy: 0.5973 - val_loss: 4.8081 - val_accuracy: 0.5761\n",
            "Epoch 21/50\n",
            "12/12 [==============================] - 12s 974ms/step - loss: 10.7783 - accuracy: 0.5918 - val_loss: 6.5248 - val_accuracy: 0.3696\n",
            "Epoch 22/50\n",
            "12/12 [==============================] - 11s 873ms/step - loss: 7.1237 - accuracy: 0.7123 - val_loss: 4.4524 - val_accuracy: 0.4674\n",
            "Epoch 23/50\n",
            "12/12 [==============================] - 11s 929ms/step - loss: 14.4759 - accuracy: 0.4356 - val_loss: 5.9247 - val_accuracy: 0.5870\n",
            "Epoch 24/50\n",
            "12/12 [==============================] - 10s 847ms/step - loss: 34.8451 - accuracy: 0.6767 - val_loss: 22.8978 - val_accuracy: 0.1413\n",
            "Epoch 25/50\n",
            "12/12 [==============================] - 10s 870ms/step - loss: 24.7388 - accuracy: 0.4466 - val_loss: 3.7456 - val_accuracy: 0.5000\n",
            "Epoch 26/50\n",
            "12/12 [==============================] - 11s 880ms/step - loss: 5.3990 - accuracy: 0.7096 - val_loss: 3.9231 - val_accuracy: 0.4674\n",
            "Epoch 27/50\n",
            "12/12 [==============================] - 11s 918ms/step - loss: 2.8964 - accuracy: 0.6575 - val_loss: 3.6739 - val_accuracy: 0.6196\n",
            "Epoch 28/50\n",
            "12/12 [==============================] - 11s 877ms/step - loss: 2.7197 - accuracy: 0.8356 - val_loss: 5.3930 - val_accuracy: 0.4348\n",
            "Epoch 29/50\n",
            "12/12 [==============================] - 11s 935ms/step - loss: 2.4270 - accuracy: 0.7068 - val_loss: 4.0728 - val_accuracy: 0.6087\n",
            "Epoch 30/50\n",
            "12/12 [==============================] - 11s 921ms/step - loss: 1.7480 - accuracy: 0.9315 - val_loss: 4.0817 - val_accuracy: 0.6848\n",
            "Epoch 31/50\n",
            "12/12 [==============================] - 11s 925ms/step - loss: 1.4531 - accuracy: 0.8438 - val_loss: 4.5342 - val_accuracy: 0.5978\n",
            "Epoch 32/50\n",
            "12/12 [==============================] - 11s 899ms/step - loss: 1.2459 - accuracy: 0.8877 - val_loss: 4.8634 - val_accuracy: 0.6739\n",
            "Epoch 33/50\n",
            "12/12 [==============================] - 12s 990ms/step - loss: 1.0951 - accuracy: 0.9260 - val_loss: 5.4466 - val_accuracy: 0.6413\n",
            "Epoch 34/50\n",
            "12/12 [==============================] - 12s 1s/step - loss: 0.9038 - accuracy: 0.9397 - val_loss: 6.0365 - val_accuracy: 0.7283\n",
            "Epoch 35/50\n",
            "12/12 [==============================] - 11s 958ms/step - loss: 0.7451 - accuracy: 0.9315 - val_loss: 6.3768 - val_accuracy: 0.7174\n",
            "Epoch 36/50\n",
            "12/12 [==============================] - 12s 982ms/step - loss: 0.6894 - accuracy: 0.9479 - val_loss: 6.8108 - val_accuracy: 0.7174\n",
            "Epoch 37/50\n",
            "12/12 [==============================] - 12s 964ms/step - loss: 0.6250 - accuracy: 0.9288 - val_loss: 7.3875 - val_accuracy: 0.6957\n",
            "Epoch 38/50\n",
            "12/12 [==============================] - 10s 830ms/step - loss: 0.5893 - accuracy: 0.9397 - val_loss: 7.8568 - val_accuracy: 0.7065\n",
            "Epoch 39/50\n",
            "12/12 [==============================] - 11s 916ms/step - loss: 0.5276 - accuracy: 0.9562 - val_loss: 8.9279 - val_accuracy: 0.7174\n",
            "Epoch 40/50\n",
            "12/12 [==============================] - 11s 910ms/step - loss: 0.5279 - accuracy: 0.9616 - val_loss: 9.8909 - val_accuracy: 0.7174\n",
            "Epoch 41/50\n",
            "12/12 [==============================] - 10s 819ms/step - loss: 3.4769 - accuracy: 0.9452 - val_loss: 19.3677 - val_accuracy: 0.3913\n",
            "Epoch 42/50\n",
            "12/12 [==============================] - 10s 804ms/step - loss: 8.9403 - accuracy: 0.7342 - val_loss: 14.7806 - val_accuracy: 0.5870\n",
            "Epoch 43/50\n",
            "12/12 [==============================] - 10s 820ms/step - loss: 3.4384 - accuracy: 0.8658 - val_loss: 10.8385 - val_accuracy: 0.6413\n",
            "Epoch 44/50\n",
            "12/12 [==============================] - 10s 855ms/step - loss: 2.8780 - accuracy: 0.8904 - val_loss: 10.5510 - val_accuracy: 0.5109\n",
            "Epoch 45/50\n",
            "12/12 [==============================] - 11s 891ms/step - loss: 1.4348 - accuracy: 0.8767 - val_loss: 8.2406 - val_accuracy: 0.6087\n",
            "Epoch 46/50\n",
            "12/12 [==============================] - 11s 924ms/step - loss: 0.8059 - accuracy: 0.9288 - val_loss: 7.7230 - val_accuracy: 0.6739\n",
            "Epoch 47/50\n",
            "12/12 [==============================] - 10s 867ms/step - loss: 0.6652 - accuracy: 0.9370 - val_loss: 8.0962 - val_accuracy: 0.6957\n",
            "Epoch 48/50\n",
            "12/12 [==============================] - 10s 816ms/step - loss: 0.5790 - accuracy: 0.9534 - val_loss: 8.4929 - val_accuracy: 0.7065\n",
            "Epoch 49/50\n",
            "12/12 [==============================] - 9s 774ms/step - loss: 0.5448 - accuracy: 0.9452 - val_loss: 8.8801 - val_accuracy: 0.6848\n",
            "Epoch 50/50\n",
            "12/12 [==============================] - 9s 774ms/step - loss: 0.4652 - accuracy: 0.9479 - val_loss: 9.3335 - val_accuracy: 0.7283\n",
            "3/3 [==============================] - 0s 154ms/step - loss: 9.3335 - accuracy: 0.7283\n",
            "Test Loss: 9.333544731140137\n",
            "Test Accuracy: 0.72826087474823\n"
          ]
        }
      ],
      "source": [
        "# Define the CNN model with Dropout regularization\n",
        "model6 = tf.keras.Sequential([\n",
        "    tf.keras.layers.Conv2D(32, (3, 3), activation='relu', input_shape=(128, 305, 1)),\n",
        "    tf.keras.layers.MaxPooling2D((2, 2)),\n",
        "    tf.keras.layers.Conv2D(64, (3, 3), activation='relu'),\n",
        "    tf.keras.layers.MaxPooling2D((2, 2)),\n",
        "    tf.keras.layers.Conv2D(128, (3, 3), activation='relu'),\n",
        "    tf.keras.layers.MaxPooling2D((2, 2)),\n",
        "    tf.keras.layers.Conv2D(256, (3, 3), activation='relu'),\n",
        "    tf.keras.layers.MaxPooling2D((2, 2)),\n",
        "    tf.keras.layers.Dropout(0.25),  # Added Dropout regularization\n",
        "    tf.keras.layers.Flatten(),\n",
        "    tf.keras.layers.Dense(256, activation='relu'),\n",
        "    tf.keras.layers.Dense(6, activation='softmax')\n",
        "])\n",
        "\n",
        "# Compile the model\n",
        "model6.compile(optimizer='adam', loss='categorical_crossentropy', metrics=['accuracy'])\n",
        "\n",
        "# Train the model\n",
        "model6.fit(X_train, y_train, epochs=50, batch_size=32, validation_data=(X_test, y_test), class_weight=class_weights)\n",
        "\n",
        "# Evaluate the model\n",
        "loss, accuracy = model6.evaluate(X_test, y_test)\n",
        "print('Test Loss:', loss)\n",
        "print('Test Accuracy:', accuracy)"
      ]
    },
    {
      "cell_type": "markdown",
      "metadata": {},
      "source": [
        "### One vs Remaining Classification"
      ]
    },
    {
      "cell_type": "code",
      "execution_count": 41,
      "metadata": {},
      "outputs": [
        {
          "data": {
            "text/plain": [
              "1    382\n",
              "0     75\n",
              "Name: label, dtype: int64"
            ]
          },
          "execution_count": 41,
          "metadata": {},
          "output_type": "execute_result"
        }
      ],
      "source": [
        "y_hungry = df['label'].apply(lambda x: 1 if x == 'hu' else 0)\n",
        "y_hungry.value_counts()"
      ]
    },
    {
      "cell_type": "code",
      "execution_count": 42,
      "metadata": {},
      "outputs": [
        {
          "name": "stdout",
          "output_type": "stream",
          "text": [
            "Epoch 1/20\n",
            "12/12 [==============================] - 12s 926ms/step - loss: 7.4035 - accuracy: 0.6466 - val_loss: 0.7441 - val_accuracy: 0.7826\n",
            "Epoch 2/20\n",
            "12/12 [==============================] - 11s 907ms/step - loss: 0.5932 - accuracy: 0.8521 - val_loss: 0.5874 - val_accuracy: 0.7826\n",
            "Epoch 3/20\n",
            "12/12 [==============================] - 11s 909ms/step - loss: 0.4836 - accuracy: 0.8521 - val_loss: 0.6109 - val_accuracy: 0.7826\n",
            "Epoch 4/20\n",
            "12/12 [==============================] - 10s 828ms/step - loss: 0.3918 - accuracy: 0.8575 - val_loss: 0.6403 - val_accuracy: 0.7826\n",
            "Epoch 5/20\n",
            "12/12 [==============================] - 10s 832ms/step - loss: 0.3282 - accuracy: 0.8685 - val_loss: 0.7368 - val_accuracy: 0.7826\n",
            "Epoch 6/20\n",
            "12/12 [==============================] - 10s 823ms/step - loss: 0.2854 - accuracy: 0.8877 - val_loss: 0.8583 - val_accuracy: 0.7826\n",
            "Epoch 7/20\n",
            "12/12 [==============================] - 10s 861ms/step - loss: 0.2388 - accuracy: 0.8959 - val_loss: 1.1105 - val_accuracy: 0.7826\n",
            "Epoch 8/20\n",
            "12/12 [==============================] - 10s 830ms/step - loss: 0.2015 - accuracy: 0.9205 - val_loss: 1.2080 - val_accuracy: 0.7717\n",
            "Epoch 9/20\n",
            "12/12 [==============================] - 10s 837ms/step - loss: 0.1829 - accuracy: 0.9205 - val_loss: 1.4749 - val_accuracy: 0.7717\n",
            "Epoch 10/20\n",
            "12/12 [==============================] - 10s 823ms/step - loss: 0.1555 - accuracy: 0.9315 - val_loss: 2.2861 - val_accuracy: 0.7717\n",
            "Epoch 11/20\n",
            "12/12 [==============================] - 10s 859ms/step - loss: 0.1938 - accuracy: 0.9315 - val_loss: 1.3032 - val_accuracy: 0.7500\n",
            "Epoch 12/20\n",
            "12/12 [==============================] - 10s 835ms/step - loss: 0.1554 - accuracy: 0.9233 - val_loss: 1.4372 - val_accuracy: 0.7717\n",
            "Epoch 13/20\n",
            "12/12 [==============================] - 12s 988ms/step - loss: 0.1718 - accuracy: 0.9315 - val_loss: 1.9802 - val_accuracy: 0.7717\n",
            "Epoch 14/20\n",
            "12/12 [==============================] - 10s 819ms/step - loss: 0.1565 - accuracy: 0.9479 - val_loss: 1.9174 - val_accuracy: 0.7391\n",
            "Epoch 15/20\n",
            "12/12 [==============================] - 11s 920ms/step - loss: 0.2524 - accuracy: 0.9534 - val_loss: 1.7107 - val_accuracy: 0.6196\n",
            "Epoch 16/20\n",
            "12/12 [==============================] - 11s 902ms/step - loss: 0.3077 - accuracy: 0.8959 - val_loss: 1.3640 - val_accuracy: 0.7609\n",
            "Epoch 17/20\n",
            "12/12 [==============================] - 11s 946ms/step - loss: 0.2551 - accuracy: 0.9014 - val_loss: 2.0705 - val_accuracy: 0.7717\n",
            "Epoch 18/20\n",
            "12/12 [==============================] - 11s 947ms/step - loss: 0.1266 - accuracy: 0.9479 - val_loss: 1.6315 - val_accuracy: 0.7283\n",
            "Epoch 19/20\n",
            "12/12 [==============================] - 11s 915ms/step - loss: 0.1365 - accuracy: 0.9507 - val_loss: 2.4791 - val_accuracy: 0.7717\n",
            "Epoch 20/20\n",
            "12/12 [==============================] - 10s 826ms/step - loss: 0.1014 - accuracy: 0.9671 - val_loss: 2.5977 - val_accuracy: 0.7717\n",
            "3/3 [==============================] - 1s 175ms/step - loss: 2.5977 - accuracy: 0.7717\n",
            "Test Loss: 2.597667932510376\n",
            "Test Accuracy: 0.77173912525177\n"
          ]
        }
      ],
      "source": [
        "# Split the data into training and testing sets\n",
        "X_train, X_test, y_train, y_test = train_test_split(df['features'], y_hungry, test_size=0.2, random_state=42)\n",
        "\n",
        "# Convert the arrays to numpy and expand dimensions for TensorFlow\n",
        "X_train = np.stack(X_train.to_numpy()).astype(np.float32)\n",
        "X_test = np.stack(X_test.to_numpy()).astype(np.float32)\n",
        "\n",
        "\n",
        "model7 = tf.keras.Sequential([\n",
        "    tf.keras.layers.Conv2D(32, (3, 3), activation='relu', input_shape=(128, 305, 1)),\n",
        "    tf.keras.layers.MaxPooling2D((2, 2)),\n",
        "    tf.keras.layers.Conv2D(64, (3, 3), activation='relu'),\n",
        "    tf.keras.layers.MaxPooling2D((2, 2)),\n",
        "    tf.keras.layers.Conv2D(128, (3, 3), activation='relu'),\n",
        "    tf.keras.layers.MaxPooling2D((2, 2)),\n",
        "    tf.keras.layers.Conv2D(256, (3, 3), activation='relu'),\n",
        "    tf.keras.layers.MaxPooling2D((2, 2)),\n",
        "    tf.keras.layers.Dropout(0.25),  # Added Dropout regularization\n",
        "    tf.keras.layers.Flatten(),\n",
        "    tf.keras.layers.Dense(256, activation='relu'),\n",
        "    tf.keras.layers.Dense(1, activation='sigmoid')\n",
        "])\n",
        "\n",
        "# Compile the model\n",
        "model7.compile(optimizer='adam', loss='binary_crossentropy', metrics=['accuracy'])\n",
        "\n",
        "# Train the model\n",
        "model7.fit(X_train, y_train, epochs=20, batch_size=32, validation_data=(X_test, y_test))\n",
        "\n",
        "# Evaluate the model\n",
        "loss, accuracy = model7.evaluate(X_test, y_test)\n",
        "print('Test Loss:', loss)\n",
        "print('Test Accuracy:', accuracy)\n"
      ]
    },
    {
      "cell_type": "code",
      "execution_count": 43,
      "metadata": {},
      "outputs": [
        {
          "name": "stdout",
          "output_type": "stream",
          "text": [
            "3/3 [==============================] - 1s 145ms/step\n",
            "              precision    recall  f1-score   support\n",
            "\n",
            "           0       0.33      0.05      0.09        20\n",
            "           1       0.79      0.97      0.87        72\n",
            "\n",
            "    accuracy                           0.77        92\n",
            "   macro avg       0.56      0.51      0.48        92\n",
            "weighted avg       0.69      0.77      0.70        92\n",
            "\n"
          ]
        }
      ],
      "source": [
        "y_pred = model7.predict(X_test)\n",
        "y_pred = np.where(y_pred > 0.50, 1, 0)\n",
        "\n",
        "# Create the classification report\n",
        "report = classification_report(y_test, y_pred)\n",
        "print(report)"
      ]
    },
    {
      "cell_type": "markdown",
      "metadata": {},
      "source": [
        "### Saving the model"
      ]
    },
    {
      "cell_type": "code",
      "execution_count": 44,
      "metadata": {},
      "outputs": [
        {
          "name": "stderr",
          "output_type": "stream",
          "text": [
            "c:\\Users\\manid\\anaconda3\\lib\\site-packages\\keras\\src\\engine\\training.py:3000: UserWarning: You are saving your model as an HDF5 file via `model.save()`. This file format is considered legacy. We recommend using instead the native Keras format, e.g. `model.save('my_model.keras')`.\n",
            "  saving_api.save_model(\n"
          ]
        }
      ],
      "source": [
        "model3.save(os.path.join('models', 'model3.h5'))"
      ]
    },
    {
      "cell_type": "code",
      "execution_count": 46,
      "metadata": {},
      "outputs": [],
      "source": [
        "import pickle\n",
        "\n",
        "with open('label_encoder_mapping.pkl', 'wb') as file:\n",
        "    pickle.dump(label_encoder.classes_, file)"
      ]
    }
  ],
  "metadata": {
    "colab": {
      "gpuType": "T4",
      "provenance": []
    },
    "kernelspec": {
      "display_name": "Python 3",
      "name": "python3"
    },
    "language_info": {
      "codemirror_mode": {
        "name": "ipython",
        "version": 3
      },
      "file_extension": ".py",
      "mimetype": "text/x-python",
      "name": "python",
      "nbconvert_exporter": "python",
      "pygments_lexer": "ipython3",
      "version": "3.10.9"
    }
  },
  "nbformat": 4,
  "nbformat_minor": 0
}
